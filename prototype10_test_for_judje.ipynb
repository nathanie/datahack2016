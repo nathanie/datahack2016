{
 "cells": [
  {
   "cell_type": "code",
   "execution_count": 47,
   "metadata": {
    "collapsed": false
   },
   "outputs": [],
   "source": [
    "import pandas as pd\n",
    "import geopandas as gpd\n",
    "import sklearn\n",
    "from sklearn.ensemble import RandomForestClassifier\n",
    "from sklearn.cross_validation import cross_val_score\n",
    "from sklearn.cross_validation import KFold\n",
    "from sklearn.preprocessing import scale\n",
    "from matplotlib import pyplot as plt\n",
    "import  numpy as np\n",
    "from sklearn.preprocessing import Imputer\n",
    "from sklearn.preprocessing import StandardScaler\n",
    "from sklearn.metrics import accuracy_score\n",
    "from sklearn.metrics import classification_report\n",
    "%matplotlib inline"
   ]
  },
  {
   "cell_type": "code",
   "execution_count": 2,
   "metadata": {
    "collapsed": true
   },
   "outputs": [],
   "source": [
    "# feature extraction functions\n",
    "def get_mean_meeting_time(meeting):\n",
    "    meeting_mean = meetings.groupby('ves_id2')['duration_min'].mean().reset_index()\n",
    "    meeting_mean.columns = ['vessel_id', 'meeting_duration_min']\n",
    "    return meeting_mean\n",
    "\n",
    "def get_num_visited_ports(ports):\n",
    "    vessels_ports = ports.groupby(by='vessel_id')['port_id'].unique().reset_index()\n",
    "    vessels_ports['num_ports'] = vessels_ports['port_id'].apply(lambda x: len(x))\n",
    "    return vessels_ports\n",
    "\n",
    "def get_mean_duration_in_ports(ports):\n",
    "    mean_duration = ports.groupby(by='vessel_id')['duration_min'].mean().reset_index()\n",
    "    mean_duration.columns = ['vessel_id', 'durat_mean']\n",
    "    return mean_duration\n",
    "\n",
    "def get_num_country_visited(ports):\n",
    "    num_country_visited = ports.groupby(by='vessel_id')['country'].count().reset_index()\n",
    "    num_country_visited.columns = ['vessel_id', 'num_countries']\n",
    "    return num_country_visited"
   ]
  },
  {
   "cell_type": "code",
   "execution_count": 3,
   "metadata": {
    "collapsed": false
   },
   "outputs": [],
   "source": [
    "labels = pd.read_csv('./input/vessels_labels_train.csv')\n",
    "ports = pd.read_csv('./input/port_visits_train.csv')\n",
    "meetings  = pd.read_csv('./input/meetings_train.csv')\n",
    "meeting_one_hot = pd.read_csv('./input/meeting_with_whom_num.csv')\n",
    "countries = pd.read_csv('./input/meeting_countries_num.csv')"
   ]
  },
  {
   "cell_type": "code",
   "execution_count": 57,
   "metadata": {
    "collapsed": false
   },
   "outputs": [
    {
     "data": {
      "text/plain": [
       "Bulk Carrier        7404\n",
       "Container Vessel    4057\n",
       "Tug                 3419\n",
       "Oil Tanker          2981\n",
       "Fishing Vessel      2200\n",
       "Passenger Vessel    1038\n",
       "Reefer               543\n",
       "Name: type, dtype: int64"
      ]
     },
     "execution_count": 57,
     "metadata": {},
     "output_type": "execute_result"
    }
   ],
   "source": [
    "# data is unbalanced!\n",
    "labels['type'].value_counts()"
   ]
  },
  {
   "cell_type": "code",
   "execution_count": 4,
   "metadata": {
    "collapsed": false
   },
   "outputs": [],
   "source": [
    "meeting_one_hot.drop('Unnamed: 0', inplace=True, axis=1)\n",
    "countries.drop(['Unnamed: 0', 'Unnamed: 5'], axis=1, inplace=True)"
   ]
  },
  {
   "cell_type": "code",
   "execution_count": 67,
   "metadata": {
    "collapsed": false
   },
   "outputs": [],
   "source": [
    "vassels_types = labels['type']\n",
    "types = vassels_types.unique()\n",
    "types2values = dict()\n",
    "values2dict = dict()\n",
    "for i, t in enumerate(types):\n",
    "    types2values[t] = i\n",
    "    values2dict[i] = t"
   ]
  },
  {
   "cell_type": "code",
   "execution_count": 60,
   "metadata": {
    "collapsed": false
   },
   "outputs": [
    {
     "data": {
      "text/plain": [
       "{'Bulk Carrier': 1,\n",
       " 'Container Vessel': 0,\n",
       " 'Fishing Vessel': 5,\n",
       " 'Oil Tanker': 2,\n",
       " 'Passenger Vessel': 6,\n",
       " 'Reefer': 4,\n",
       " 'Tug': 3}"
      ]
     },
     "execution_count": 60,
     "metadata": {},
     "output_type": "execute_result"
    }
   ],
   "source": [
    "types2values"
   ]
  },
  {
   "cell_type": "code",
   "execution_count": null,
   "metadata": {
    "collapsed": false
   },
   "outputs": [],
   "source": []
  },
  {
   "cell_type": "code",
   "execution_count": 61,
   "metadata": {
    "collapsed": false
   },
   "outputs": [],
   "source": [
    "labels['num_types'] = labels['type'].apply(lambda x: types2values[x])"
   ]
  },
  {
   "cell_type": "code",
   "execution_count": 8,
   "metadata": {
    "collapsed": true
   },
   "outputs": [],
   "source": [
    "ports.columns = ['vessel_id', 'start_time', 'duration_min', 'port_id', 'country', 'Lat',\n",
    "       'Long', 'port_name'] "
   ]
  },
  {
   "cell_type": "code",
   "execution_count": 9,
   "metadata": {
    "collapsed": false
   },
   "outputs": [],
   "source": [
    "ports_full = pd.merge(ports, labels, left_on='vessel_id', right_on='vessel_id')"
   ]
  },
  {
   "cell_type": "code",
   "execution_count": 10,
   "metadata": {
    "collapsed": true
   },
   "outputs": [],
   "source": [
    "vessels_ports = get_num_visited_ports(ports_full)"
   ]
  },
  {
   "cell_type": "code",
   "execution_count": 11,
   "metadata": {
    "collapsed": false
   },
   "outputs": [],
   "source": [
    "vessels_ports = pd.merge(vessels_ports, labels, left_on='vessel_id', right_on='vessel_id')"
   ]
  },
  {
   "cell_type": "code",
   "execution_count": 12,
   "metadata": {
    "collapsed": false
   },
   "outputs": [
    {
     "data": {
      "text/plain": [
       "(21122, 5)"
      ]
     },
     "execution_count": 12,
     "metadata": {},
     "output_type": "execute_result"
    }
   ],
   "source": [
    "vessels_ports.shape"
   ]
  },
  {
   "cell_type": "code",
   "execution_count": 13,
   "metadata": {
    "collapsed": true
   },
   "outputs": [],
   "source": [
    "mean_duration_in_ports = get_mean_duration_in_ports(ports_full)\n",
    "vessels_ports = pd.merge(vessels_ports, mean_duration_in_ports, left_on='vessel_id', right_on='vessel_id')"
   ]
  },
  {
   "cell_type": "code",
   "execution_count": 14,
   "metadata": {
    "collapsed": false
   },
   "outputs": [
    {
     "data": {
      "text/plain": [
       "(21122, 6)"
      ]
     },
     "execution_count": 14,
     "metadata": {},
     "output_type": "execute_result"
    }
   ],
   "source": [
    "vessels_ports.shape"
   ]
  },
  {
   "cell_type": "code",
   "execution_count": 15,
   "metadata": {
    "collapsed": false
   },
   "outputs": [],
   "source": [
    "meeting_mean = get_mean_meeting_time(meetings)\n",
    "vessels_ports = pd.merge(vessels_ports, meeting_mean, left_on='vessel_id', right_on='vessel_id', how='outer')"
   ]
  },
  {
   "cell_type": "code",
   "execution_count": 16,
   "metadata": {
    "collapsed": false
   },
   "outputs": [
    {
     "data": {
      "text/plain": [
       "(42823, 7)"
      ]
     },
     "execution_count": 16,
     "metadata": {},
     "output_type": "execute_result"
    }
   ],
   "source": [
    "vessels_ports.shape"
   ]
  },
  {
   "cell_type": "code",
   "execution_count": 17,
   "metadata": {
    "collapsed": false
   },
   "outputs": [
    {
     "data": {
      "text/html": [
       "<div>\n",
       "<table border=\"1\" class=\"dataframe\">\n",
       "  <thead>\n",
       "    <tr style=\"text-align: right;\">\n",
       "      <th></th>\n",
       "      <th>vessel_id</th>\n",
       "      <th>port_id</th>\n",
       "      <th>num_ports</th>\n",
       "      <th>type</th>\n",
       "      <th>num_types</th>\n",
       "      <th>durat_mean</th>\n",
       "      <th>meeting_duration_min</th>\n",
       "    </tr>\n",
       "  </thead>\n",
       "  <tbody>\n",
       "    <tr>\n",
       "      <th>0</th>\n",
       "      <td>56d83489e4b01c7098934f48</td>\n",
       "      <td>[54880c9b2f16092e9efe8a57, 5358fc77b68ca120a07...</td>\n",
       "      <td>7.0</td>\n",
       "      <td>Bulk Carrier</td>\n",
       "      <td>1.0</td>\n",
       "      <td>7532.875000</td>\n",
       "      <td>NaN</td>\n",
       "    </tr>\n",
       "    <tr>\n",
       "      <th>1</th>\n",
       "      <td>56d83489e4b01c7098934f4f</td>\n",
       "      <td>[5358fc78b68ca120a07dbbed, 5358fc78b68ca120a07...</td>\n",
       "      <td>3.0</td>\n",
       "      <td>Fishing Vessel</td>\n",
       "      <td>5.0</td>\n",
       "      <td>4490.444444</td>\n",
       "      <td>93.50</td>\n",
       "    </tr>\n",
       "    <tr>\n",
       "      <th>2</th>\n",
       "      <td>56d83489e4b01c7098934f50</td>\n",
       "      <td>[5358fc77b68ca120a07dae0b, 5358fc78b68ca120a07...</td>\n",
       "      <td>11.0</td>\n",
       "      <td>Bulk Carrier</td>\n",
       "      <td>1.0</td>\n",
       "      <td>5388.750000</td>\n",
       "      <td>NaN</td>\n",
       "    </tr>\n",
       "    <tr>\n",
       "      <th>3</th>\n",
       "      <td>56d83489e4b01c7098934f51</td>\n",
       "      <td>[5358fc78b68ca120a07db895, 5358fc78b68ca120a07...</td>\n",
       "      <td>14.0</td>\n",
       "      <td>Bulk Carrier</td>\n",
       "      <td>1.0</td>\n",
       "      <td>469.272727</td>\n",
       "      <td>NaN</td>\n",
       "    </tr>\n",
       "    <tr>\n",
       "      <th>4</th>\n",
       "      <td>56d83489e4b025a920ad5e6e</td>\n",
       "      <td>[5358fc78b68ca120a07dbcd9, 5358fc77b68ca120a07...</td>\n",
       "      <td>6.0</td>\n",
       "      <td>Bulk Carrier</td>\n",
       "      <td>1.0</td>\n",
       "      <td>9145.833333</td>\n",
       "      <td>280.25</td>\n",
       "    </tr>\n",
       "  </tbody>\n",
       "</table>\n",
       "</div>"
      ],
      "text/plain": [
       "                  vessel_id  \\\n",
       "0  56d83489e4b01c7098934f48   \n",
       "1  56d83489e4b01c7098934f4f   \n",
       "2  56d83489e4b01c7098934f50   \n",
       "3  56d83489e4b01c7098934f51   \n",
       "4  56d83489e4b025a920ad5e6e   \n",
       "\n",
       "                                             port_id  num_ports  \\\n",
       "0  [54880c9b2f16092e9efe8a57, 5358fc77b68ca120a07...        7.0   \n",
       "1  [5358fc78b68ca120a07dbbed, 5358fc78b68ca120a07...        3.0   \n",
       "2  [5358fc77b68ca120a07dae0b, 5358fc78b68ca120a07...       11.0   \n",
       "3  [5358fc78b68ca120a07db895, 5358fc78b68ca120a07...       14.0   \n",
       "4  [5358fc78b68ca120a07dbcd9, 5358fc77b68ca120a07...        6.0   \n",
       "\n",
       "             type  num_types   durat_mean  meeting_duration_min  \n",
       "0    Bulk Carrier        1.0  7532.875000                   NaN  \n",
       "1  Fishing Vessel        5.0  4490.444444                 93.50  \n",
       "2    Bulk Carrier        1.0  5388.750000                   NaN  \n",
       "3    Bulk Carrier        1.0   469.272727                   NaN  \n",
       "4    Bulk Carrier        1.0  9145.833333                280.25  "
      ]
     },
     "execution_count": 17,
     "metadata": {},
     "output_type": "execute_result"
    }
   ],
   "source": [
    "vessels_ports.head()"
   ]
  },
  {
   "cell_type": "code",
   "execution_count": 18,
   "metadata": {
    "collapsed": false
   },
   "outputs": [],
   "source": [
    "num_country_visited = get_num_country_visited(ports_full)\n",
    "vessels_ports = pd.merge(vessels_ports, num_country_visited, left_on='vessel_id', right_on='vessel_id', how='outer')"
   ]
  },
  {
   "cell_type": "code",
   "execution_count": 19,
   "metadata": {
    "collapsed": false
   },
   "outputs": [
    {
     "data": {
      "text/plain": [
       "(42823, 8)"
      ]
     },
     "execution_count": 19,
     "metadata": {},
     "output_type": "execute_result"
    }
   ],
   "source": [
    "vessels_ports.shape"
   ]
  },
  {
   "cell_type": "code",
   "execution_count": 20,
   "metadata": {
    "collapsed": false
   },
   "outputs": [],
   "source": [
    "vessels_ports = pd.merge(vessels_ports, meeting_one_hot, left_on='vessel_id', right_on='vessel_id', how='outer')"
   ]
  },
  {
   "cell_type": "code",
   "execution_count": 21,
   "metadata": {
    "collapsed": false
   },
   "outputs": [
    {
     "data": {
      "text/plain": [
       "(42823, 171)"
      ]
     },
     "execution_count": 21,
     "metadata": {},
     "output_type": "execute_result"
    }
   ],
   "source": [
    "vessels_ports = pd.merge(vessels_ports, countries, left_on='vessel_id', right_on='vessel_id', how='outer')\n",
    "vessels_ports.shape"
   ]
  },
  {
   "cell_type": "code",
   "execution_count": 22,
   "metadata": {
    "collapsed": false
   },
   "outputs": [
    {
     "data": {
      "text/plain": [
       "(42823, 171)"
      ]
     },
     "execution_count": 22,
     "metadata": {},
     "output_type": "execute_result"
    }
   ],
   "source": [
    "vessels_ports.shape"
   ]
  },
  {
   "cell_type": "code",
   "execution_count": 23,
   "metadata": {
    "collapsed": false
   },
   "outputs": [
    {
     "data": {
      "text/plain": [
       "(21122, 171)"
      ]
     },
     "execution_count": 23,
     "metadata": {},
     "output_type": "execute_result"
    }
   ],
   "source": [
    "vessels_ports = vessels_ports[pd.notnull(vessels_ports['port_id'])]\n",
    "vessels_ports.shape"
   ]
  },
  {
   "cell_type": "code",
   "execution_count": 24,
   "metadata": {
    "collapsed": false
   },
   "outputs": [],
   "source": [
    "vessels_ports = vessels_ports.drop('type', axis=1)"
   ]
  },
  {
   "cell_type": "code",
   "execution_count": 25,
   "metadata": {
    "collapsed": false
   },
   "outputs": [
    {
     "data": {
      "text/html": [
       "<div>\n",
       "<table border=\"1\" class=\"dataframe\">\n",
       "  <thead>\n",
       "    <tr style=\"text-align: right;\">\n",
       "      <th></th>\n",
       "      <th>vessel_id</th>\n",
       "      <th>port_id</th>\n",
       "      <th>num_ports</th>\n",
       "      <th>num_types</th>\n",
       "      <th>durat_mean</th>\n",
       "      <th>meeting_duration_min</th>\n",
       "      <th>num_countries</th>\n",
       "      <th>type_0</th>\n",
       "      <th>type_1</th>\n",
       "      <th>type_2</th>\n",
       "      <th>...</th>\n",
       "      <th>libya</th>\n",
       "      <th>italy</th>\n",
       "      <th>slovenia</th>\n",
       "      <th>namibia</th>\n",
       "      <th>newzealand</th>\n",
       "      <th>mauritius</th>\n",
       "      <th>angola</th>\n",
       "      <th>oman</th>\n",
       "      <th>solomonislands</th>\n",
       "      <th>senegal</th>\n",
       "    </tr>\n",
       "  </thead>\n",
       "  <tbody>\n",
       "    <tr>\n",
       "      <th>0</th>\n",
       "      <td>56d83489e4b01c7098934f48</td>\n",
       "      <td>[54880c9b2f16092e9efe8a57, 5358fc77b68ca120a07...</td>\n",
       "      <td>7.0</td>\n",
       "      <td>1.0</td>\n",
       "      <td>7532.875000</td>\n",
       "      <td>NaN</td>\n",
       "      <td>8.0</td>\n",
       "      <td>NaN</td>\n",
       "      <td>NaN</td>\n",
       "      <td>NaN</td>\n",
       "      <td>...</td>\n",
       "      <td>0.0</td>\n",
       "      <td>0.0</td>\n",
       "      <td>0.0</td>\n",
       "      <td>0.0</td>\n",
       "      <td>0.0</td>\n",
       "      <td>0.0</td>\n",
       "      <td>0.0</td>\n",
       "      <td>0.0</td>\n",
       "      <td>0.0</td>\n",
       "      <td>0.0</td>\n",
       "    </tr>\n",
       "    <tr>\n",
       "      <th>1</th>\n",
       "      <td>56d83489e4b01c7098934f4f</td>\n",
       "      <td>[5358fc78b68ca120a07dbbed, 5358fc78b68ca120a07...</td>\n",
       "      <td>3.0</td>\n",
       "      <td>5.0</td>\n",
       "      <td>4490.444444</td>\n",
       "      <td>93.50</td>\n",
       "      <td>9.0</td>\n",
       "      <td>0.0</td>\n",
       "      <td>0.0</td>\n",
       "      <td>2.0</td>\n",
       "      <td>...</td>\n",
       "      <td>0.0</td>\n",
       "      <td>0.0</td>\n",
       "      <td>0.0</td>\n",
       "      <td>0.0</td>\n",
       "      <td>0.0</td>\n",
       "      <td>0.0</td>\n",
       "      <td>0.0</td>\n",
       "      <td>0.0</td>\n",
       "      <td>0.0</td>\n",
       "      <td>0.0</td>\n",
       "    </tr>\n",
       "    <tr>\n",
       "      <th>2</th>\n",
       "      <td>56d83489e4b01c7098934f50</td>\n",
       "      <td>[5358fc77b68ca120a07dae0b, 5358fc78b68ca120a07...</td>\n",
       "      <td>11.0</td>\n",
       "      <td>1.0</td>\n",
       "      <td>5388.750000</td>\n",
       "      <td>NaN</td>\n",
       "      <td>12.0</td>\n",
       "      <td>NaN</td>\n",
       "      <td>NaN</td>\n",
       "      <td>NaN</td>\n",
       "      <td>...</td>\n",
       "      <td>0.0</td>\n",
       "      <td>0.0</td>\n",
       "      <td>0.0</td>\n",
       "      <td>0.0</td>\n",
       "      <td>0.0</td>\n",
       "      <td>0.0</td>\n",
       "      <td>0.0</td>\n",
       "      <td>0.0</td>\n",
       "      <td>0.0</td>\n",
       "      <td>0.0</td>\n",
       "    </tr>\n",
       "    <tr>\n",
       "      <th>3</th>\n",
       "      <td>56d83489e4b01c7098934f51</td>\n",
       "      <td>[5358fc78b68ca120a07db895, 5358fc78b68ca120a07...</td>\n",
       "      <td>14.0</td>\n",
       "      <td>1.0</td>\n",
       "      <td>469.272727</td>\n",
       "      <td>NaN</td>\n",
       "      <td>44.0</td>\n",
       "      <td>NaN</td>\n",
       "      <td>NaN</td>\n",
       "      <td>NaN</td>\n",
       "      <td>...</td>\n",
       "      <td>0.0</td>\n",
       "      <td>0.0</td>\n",
       "      <td>0.0</td>\n",
       "      <td>0.0</td>\n",
       "      <td>0.0</td>\n",
       "      <td>0.0</td>\n",
       "      <td>0.0</td>\n",
       "      <td>0.0</td>\n",
       "      <td>0.0</td>\n",
       "      <td>0.0</td>\n",
       "    </tr>\n",
       "    <tr>\n",
       "      <th>4</th>\n",
       "      <td>56d83489e4b025a920ad5e6e</td>\n",
       "      <td>[5358fc78b68ca120a07dbcd9, 5358fc77b68ca120a07...</td>\n",
       "      <td>6.0</td>\n",
       "      <td>1.0</td>\n",
       "      <td>9145.833333</td>\n",
       "      <td>280.25</td>\n",
       "      <td>6.0</td>\n",
       "      <td>0.0</td>\n",
       "      <td>0.0</td>\n",
       "      <td>2.0</td>\n",
       "      <td>...</td>\n",
       "      <td>0.0</td>\n",
       "      <td>0.0</td>\n",
       "      <td>0.0</td>\n",
       "      <td>0.0</td>\n",
       "      <td>0.0</td>\n",
       "      <td>0.0</td>\n",
       "      <td>0.0</td>\n",
       "      <td>0.0</td>\n",
       "      <td>0.0</td>\n",
       "      <td>0.0</td>\n",
       "    </tr>\n",
       "  </tbody>\n",
       "</table>\n",
       "<p>5 rows × 170 columns</p>\n",
       "</div>"
      ],
      "text/plain": [
       "                  vessel_id  \\\n",
       "0  56d83489e4b01c7098934f48   \n",
       "1  56d83489e4b01c7098934f4f   \n",
       "2  56d83489e4b01c7098934f50   \n",
       "3  56d83489e4b01c7098934f51   \n",
       "4  56d83489e4b025a920ad5e6e   \n",
       "\n",
       "                                             port_id  num_ports  num_types  \\\n",
       "0  [54880c9b2f16092e9efe8a57, 5358fc77b68ca120a07...        7.0        1.0   \n",
       "1  [5358fc78b68ca120a07dbbed, 5358fc78b68ca120a07...        3.0        5.0   \n",
       "2  [5358fc77b68ca120a07dae0b, 5358fc78b68ca120a07...       11.0        1.0   \n",
       "3  [5358fc78b68ca120a07db895, 5358fc78b68ca120a07...       14.0        1.0   \n",
       "4  [5358fc78b68ca120a07dbcd9, 5358fc77b68ca120a07...        6.0        1.0   \n",
       "\n",
       "    durat_mean  meeting_duration_min  num_countries  type_0  type_1  type_2  \\\n",
       "0  7532.875000                   NaN            8.0     NaN     NaN     NaN   \n",
       "1  4490.444444                 93.50            9.0     0.0     0.0     2.0   \n",
       "2  5388.750000                   NaN           12.0     NaN     NaN     NaN   \n",
       "3   469.272727                   NaN           44.0     NaN     NaN     NaN   \n",
       "4  9145.833333                280.25            6.0     0.0     0.0     2.0   \n",
       "\n",
       "    ...     libya  italy  slovenia  namibia  newzealand  mauritius  angola  \\\n",
       "0   ...       0.0    0.0       0.0      0.0         0.0        0.0     0.0   \n",
       "1   ...       0.0    0.0       0.0      0.0         0.0        0.0     0.0   \n",
       "2   ...       0.0    0.0       0.0      0.0         0.0        0.0     0.0   \n",
       "3   ...       0.0    0.0       0.0      0.0         0.0        0.0     0.0   \n",
       "4   ...       0.0    0.0       0.0      0.0         0.0        0.0     0.0   \n",
       "\n",
       "   oman  solomonislands  senegal  \n",
       "0   0.0             0.0      0.0  \n",
       "1   0.0             0.0      0.0  \n",
       "2   0.0             0.0      0.0  \n",
       "3   0.0             0.0      0.0  \n",
       "4   0.0             0.0      0.0  \n",
       "\n",
       "[5 rows x 170 columns]"
      ]
     },
     "execution_count": 25,
     "metadata": {},
     "output_type": "execute_result"
    }
   ],
   "source": [
    "vessels_ports.head()"
   ]
  },
  {
   "cell_type": "code",
   "execution_count": 26,
   "metadata": {
    "collapsed": false
   },
   "outputs": [
    {
     "data": {
      "text/plain": [
       "(21122, 170)"
      ]
     },
     "execution_count": 26,
     "metadata": {},
     "output_type": "execute_result"
    }
   ],
   "source": [
    "vessels_ports.shape"
   ]
  },
  {
   "cell_type": "code",
   "execution_count": 27,
   "metadata": {
    "collapsed": false
   },
   "outputs": [],
   "source": [
    "ports_by_vessels = pd.read_csv('./input/ports_by_vessel.csv')"
   ]
  },
  {
   "cell_type": "code",
   "execution_count": 28,
   "metadata": {
    "collapsed": false
   },
   "outputs": [],
   "source": [
    "ports_by_vessels.head()\n",
    "cols = ports_by_vessels.columns.values\n",
    "cols[0] = 'vessel_id' \n",
    "ports_by_vessels.columns = cols"
   ]
  },
  {
   "cell_type": "code",
   "execution_count": 29,
   "metadata": {
    "collapsed": false
   },
   "outputs": [
    {
     "name": "stdout",
     "output_type": "stream",
     "text": [
      "(21122, 170)\n",
      "(21122, 3591)\n"
     ]
    }
   ],
   "source": [
    "print(vessels_ports.shape)\n",
    "print(ports_by_vessels.shape)"
   ]
  },
  {
   "cell_type": "code",
   "execution_count": 30,
   "metadata": {
    "collapsed": false
   },
   "outputs": [],
   "source": [
    "vessels_all = pd.merge(vessels_ports, ports_by_vessels, left_on='vessel_id', right_on='vessel_id')"
   ]
  },
  {
   "cell_type": "code",
   "execution_count": null,
   "metadata": {
    "collapsed": false
   },
   "outputs": [],
   "source": []
  },
  {
   "cell_type": "code",
   "execution_count": 31,
   "metadata": {
    "collapsed": false
   },
   "outputs": [],
   "source": [
    "vessels = vessels_all.drop(['port_id', 'num_types', 'vessel_id'], axis=1)\n",
    "answer = vessels_all['num_types']"
   ]
  },
  {
   "cell_type": "code",
   "execution_count": 42,
   "metadata": {
    "collapsed": false
   },
   "outputs": [
    {
     "data": {
      "text/html": [
       "<div>\n",
       "<table border=\"1\" class=\"dataframe\">\n",
       "  <thead>\n",
       "    <tr style=\"text-align: right;\">\n",
       "      <th></th>\n",
       "      <th>num_ports</th>\n",
       "      <th>durat_mean</th>\n",
       "      <th>meeting_duration_min</th>\n",
       "      <th>num_countries</th>\n",
       "      <th>type_0</th>\n",
       "      <th>type_1</th>\n",
       "      <th>type_2</th>\n",
       "      <th>type_3</th>\n",
       "      <th>type_4</th>\n",
       "      <th>type_5</th>\n",
       "      <th>...</th>\n",
       "      <th>57d5268a376b25d85e8577d9</th>\n",
       "      <th>57d5300d8f3ea8dd5e7e5995</th>\n",
       "      <th>57d530a5376b25d85e8577e3</th>\n",
       "      <th>57d531d4be57e5de5e75ff1e</th>\n",
       "      <th>57d536d2376b25d85e8577e9</th>\n",
       "      <th>57d53f2f2e4e5fe35e7b30e5</th>\n",
       "      <th>57d5408b2e4e5fe35e7b30e9</th>\n",
       "      <th>57d543d0be57e5de5e75ff33</th>\n",
       "      <th>57d547ab8f3ea8dd5e7e59a6</th>\n",
       "      <th>57d552ff376b25d85e8577ff</th>\n",
       "    </tr>\n",
       "  </thead>\n",
       "  <tbody>\n",
       "    <tr>\n",
       "      <th>0</th>\n",
       "      <td>7.0</td>\n",
       "      <td>7532.875000</td>\n",
       "      <td>NaN</td>\n",
       "      <td>8.0</td>\n",
       "      <td>NaN</td>\n",
       "      <td>NaN</td>\n",
       "      <td>NaN</td>\n",
       "      <td>NaN</td>\n",
       "      <td>NaN</td>\n",
       "      <td>NaN</td>\n",
       "      <td>...</td>\n",
       "      <td>0</td>\n",
       "      <td>0</td>\n",
       "      <td>0</td>\n",
       "      <td>0</td>\n",
       "      <td>0</td>\n",
       "      <td>0</td>\n",
       "      <td>0</td>\n",
       "      <td>0</td>\n",
       "      <td>0</td>\n",
       "      <td>0</td>\n",
       "    </tr>\n",
       "    <tr>\n",
       "      <th>1</th>\n",
       "      <td>3.0</td>\n",
       "      <td>4490.444444</td>\n",
       "      <td>93.500000</td>\n",
       "      <td>9.0</td>\n",
       "      <td>0.0</td>\n",
       "      <td>0.0</td>\n",
       "      <td>2.0</td>\n",
       "      <td>0.0</td>\n",
       "      <td>0.0</td>\n",
       "      <td>0.0</td>\n",
       "      <td>...</td>\n",
       "      <td>0</td>\n",
       "      <td>0</td>\n",
       "      <td>0</td>\n",
       "      <td>0</td>\n",
       "      <td>0</td>\n",
       "      <td>0</td>\n",
       "      <td>0</td>\n",
       "      <td>0</td>\n",
       "      <td>0</td>\n",
       "      <td>0</td>\n",
       "    </tr>\n",
       "    <tr>\n",
       "      <th>2</th>\n",
       "      <td>11.0</td>\n",
       "      <td>5388.750000</td>\n",
       "      <td>NaN</td>\n",
       "      <td>12.0</td>\n",
       "      <td>NaN</td>\n",
       "      <td>NaN</td>\n",
       "      <td>NaN</td>\n",
       "      <td>NaN</td>\n",
       "      <td>NaN</td>\n",
       "      <td>NaN</td>\n",
       "      <td>...</td>\n",
       "      <td>0</td>\n",
       "      <td>0</td>\n",
       "      <td>0</td>\n",
       "      <td>0</td>\n",
       "      <td>0</td>\n",
       "      <td>0</td>\n",
       "      <td>0</td>\n",
       "      <td>0</td>\n",
       "      <td>0</td>\n",
       "      <td>0</td>\n",
       "    </tr>\n",
       "    <tr>\n",
       "      <th>3</th>\n",
       "      <td>14.0</td>\n",
       "      <td>469.272727</td>\n",
       "      <td>NaN</td>\n",
       "      <td>44.0</td>\n",
       "      <td>NaN</td>\n",
       "      <td>NaN</td>\n",
       "      <td>NaN</td>\n",
       "      <td>NaN</td>\n",
       "      <td>NaN</td>\n",
       "      <td>NaN</td>\n",
       "      <td>...</td>\n",
       "      <td>0</td>\n",
       "      <td>0</td>\n",
       "      <td>0</td>\n",
       "      <td>0</td>\n",
       "      <td>0</td>\n",
       "      <td>0</td>\n",
       "      <td>0</td>\n",
       "      <td>0</td>\n",
       "      <td>0</td>\n",
       "      <td>0</td>\n",
       "    </tr>\n",
       "    <tr>\n",
       "      <th>4</th>\n",
       "      <td>6.0</td>\n",
       "      <td>9145.833333</td>\n",
       "      <td>280.250000</td>\n",
       "      <td>6.0</td>\n",
       "      <td>0.0</td>\n",
       "      <td>0.0</td>\n",
       "      <td>2.0</td>\n",
       "      <td>2.0</td>\n",
       "      <td>0.0</td>\n",
       "      <td>0.0</td>\n",
       "      <td>...</td>\n",
       "      <td>0</td>\n",
       "      <td>0</td>\n",
       "      <td>0</td>\n",
       "      <td>0</td>\n",
       "      <td>0</td>\n",
       "      <td>0</td>\n",
       "      <td>0</td>\n",
       "      <td>0</td>\n",
       "      <td>0</td>\n",
       "      <td>0</td>\n",
       "    </tr>\n",
       "    <tr>\n",
       "      <th>5</th>\n",
       "      <td>26.0</td>\n",
       "      <td>1705.400000</td>\n",
       "      <td>NaN</td>\n",
       "      <td>40.0</td>\n",
       "      <td>NaN</td>\n",
       "      <td>NaN</td>\n",
       "      <td>NaN</td>\n",
       "      <td>NaN</td>\n",
       "      <td>NaN</td>\n",
       "      <td>NaN</td>\n",
       "      <td>...</td>\n",
       "      <td>0</td>\n",
       "      <td>0</td>\n",
       "      <td>0</td>\n",
       "      <td>0</td>\n",
       "      <td>0</td>\n",
       "      <td>0</td>\n",
       "      <td>0</td>\n",
       "      <td>0</td>\n",
       "      <td>0</td>\n",
       "      <td>0</td>\n",
       "    </tr>\n",
       "    <tr>\n",
       "      <th>6</th>\n",
       "      <td>17.0</td>\n",
       "      <td>890.591837</td>\n",
       "      <td>NaN</td>\n",
       "      <td>49.0</td>\n",
       "      <td>NaN</td>\n",
       "      <td>NaN</td>\n",
       "      <td>NaN</td>\n",
       "      <td>NaN</td>\n",
       "      <td>NaN</td>\n",
       "      <td>NaN</td>\n",
       "      <td>...</td>\n",
       "      <td>0</td>\n",
       "      <td>0</td>\n",
       "      <td>0</td>\n",
       "      <td>0</td>\n",
       "      <td>0</td>\n",
       "      <td>0</td>\n",
       "      <td>0</td>\n",
       "      <td>0</td>\n",
       "      <td>0</td>\n",
       "      <td>0</td>\n",
       "    </tr>\n",
       "    <tr>\n",
       "      <th>7</th>\n",
       "      <td>8.0</td>\n",
       "      <td>1723.100000</td>\n",
       "      <td>NaN</td>\n",
       "      <td>10.0</td>\n",
       "      <td>NaN</td>\n",
       "      <td>NaN</td>\n",
       "      <td>NaN</td>\n",
       "      <td>NaN</td>\n",
       "      <td>NaN</td>\n",
       "      <td>NaN</td>\n",
       "      <td>...</td>\n",
       "      <td>0</td>\n",
       "      <td>0</td>\n",
       "      <td>0</td>\n",
       "      <td>0</td>\n",
       "      <td>0</td>\n",
       "      <td>0</td>\n",
       "      <td>0</td>\n",
       "      <td>0</td>\n",
       "      <td>0</td>\n",
       "      <td>0</td>\n",
       "    </tr>\n",
       "    <tr>\n",
       "      <th>8</th>\n",
       "      <td>9.0</td>\n",
       "      <td>2115.416667</td>\n",
       "      <td>NaN</td>\n",
       "      <td>12.0</td>\n",
       "      <td>NaN</td>\n",
       "      <td>NaN</td>\n",
       "      <td>NaN</td>\n",
       "      <td>NaN</td>\n",
       "      <td>NaN</td>\n",
       "      <td>NaN</td>\n",
       "      <td>...</td>\n",
       "      <td>0</td>\n",
       "      <td>0</td>\n",
       "      <td>0</td>\n",
       "      <td>0</td>\n",
       "      <td>0</td>\n",
       "      <td>0</td>\n",
       "      <td>0</td>\n",
       "      <td>0</td>\n",
       "      <td>0</td>\n",
       "      <td>0</td>\n",
       "    </tr>\n",
       "    <tr>\n",
       "      <th>9</th>\n",
       "      <td>13.0</td>\n",
       "      <td>3365.405405</td>\n",
       "      <td>NaN</td>\n",
       "      <td>37.0</td>\n",
       "      <td>NaN</td>\n",
       "      <td>NaN</td>\n",
       "      <td>NaN</td>\n",
       "      <td>NaN</td>\n",
       "      <td>NaN</td>\n",
       "      <td>NaN</td>\n",
       "      <td>...</td>\n",
       "      <td>0</td>\n",
       "      <td>0</td>\n",
       "      <td>0</td>\n",
       "      <td>0</td>\n",
       "      <td>0</td>\n",
       "      <td>0</td>\n",
       "      <td>0</td>\n",
       "      <td>0</td>\n",
       "      <td>0</td>\n",
       "      <td>0</td>\n",
       "    </tr>\n",
       "    <tr>\n",
       "      <th>10</th>\n",
       "      <td>14.0</td>\n",
       "      <td>2619.920000</td>\n",
       "      <td>NaN</td>\n",
       "      <td>25.0</td>\n",
       "      <td>NaN</td>\n",
       "      <td>NaN</td>\n",
       "      <td>NaN</td>\n",
       "      <td>NaN</td>\n",
       "      <td>NaN</td>\n",
       "      <td>NaN</td>\n",
       "      <td>...</td>\n",
       "      <td>0</td>\n",
       "      <td>0</td>\n",
       "      <td>0</td>\n",
       "      <td>0</td>\n",
       "      <td>0</td>\n",
       "      <td>0</td>\n",
       "      <td>0</td>\n",
       "      <td>0</td>\n",
       "      <td>0</td>\n",
       "      <td>0</td>\n",
       "    </tr>\n",
       "    <tr>\n",
       "      <th>11</th>\n",
       "      <td>8.0</td>\n",
       "      <td>4533.636364</td>\n",
       "      <td>NaN</td>\n",
       "      <td>11.0</td>\n",
       "      <td>NaN</td>\n",
       "      <td>NaN</td>\n",
       "      <td>NaN</td>\n",
       "      <td>NaN</td>\n",
       "      <td>NaN</td>\n",
       "      <td>NaN</td>\n",
       "      <td>...</td>\n",
       "      <td>0</td>\n",
       "      <td>0</td>\n",
       "      <td>0</td>\n",
       "      <td>0</td>\n",
       "      <td>0</td>\n",
       "      <td>0</td>\n",
       "      <td>0</td>\n",
       "      <td>0</td>\n",
       "      <td>0</td>\n",
       "      <td>0</td>\n",
       "    </tr>\n",
       "    <tr>\n",
       "      <th>12</th>\n",
       "      <td>10.0</td>\n",
       "      <td>1159.809524</td>\n",
       "      <td>NaN</td>\n",
       "      <td>42.0</td>\n",
       "      <td>NaN</td>\n",
       "      <td>NaN</td>\n",
       "      <td>NaN</td>\n",
       "      <td>NaN</td>\n",
       "      <td>NaN</td>\n",
       "      <td>NaN</td>\n",
       "      <td>...</td>\n",
       "      <td>0</td>\n",
       "      <td>0</td>\n",
       "      <td>0</td>\n",
       "      <td>0</td>\n",
       "      <td>0</td>\n",
       "      <td>0</td>\n",
       "      <td>0</td>\n",
       "      <td>0</td>\n",
       "      <td>0</td>\n",
       "      <td>0</td>\n",
       "    </tr>\n",
       "    <tr>\n",
       "      <th>13</th>\n",
       "      <td>12.0</td>\n",
       "      <td>1397.416667</td>\n",
       "      <td>38.000000</td>\n",
       "      <td>36.0</td>\n",
       "      <td>1.0</td>\n",
       "      <td>0.0</td>\n",
       "      <td>0.0</td>\n",
       "      <td>0.0</td>\n",
       "      <td>0.0</td>\n",
       "      <td>0.0</td>\n",
       "      <td>...</td>\n",
       "      <td>0</td>\n",
       "      <td>0</td>\n",
       "      <td>0</td>\n",
       "      <td>0</td>\n",
       "      <td>0</td>\n",
       "      <td>0</td>\n",
       "      <td>0</td>\n",
       "      <td>0</td>\n",
       "      <td>0</td>\n",
       "      <td>0</td>\n",
       "    </tr>\n",
       "    <tr>\n",
       "      <th>14</th>\n",
       "      <td>6.0</td>\n",
       "      <td>2065.444444</td>\n",
       "      <td>613.000000</td>\n",
       "      <td>9.0</td>\n",
       "      <td>0.0</td>\n",
       "      <td>0.0</td>\n",
       "      <td>2.0</td>\n",
       "      <td>1.0</td>\n",
       "      <td>0.0</td>\n",
       "      <td>0.0</td>\n",
       "      <td>...</td>\n",
       "      <td>0</td>\n",
       "      <td>0</td>\n",
       "      <td>0</td>\n",
       "      <td>0</td>\n",
       "      <td>0</td>\n",
       "      <td>0</td>\n",
       "      <td>0</td>\n",
       "      <td>0</td>\n",
       "      <td>0</td>\n",
       "      <td>0</td>\n",
       "    </tr>\n",
       "    <tr>\n",
       "      <th>15</th>\n",
       "      <td>5.0</td>\n",
       "      <td>6699.322581</td>\n",
       "      <td>79.000000</td>\n",
       "      <td>31.0</td>\n",
       "      <td>0.0</td>\n",
       "      <td>0.0</td>\n",
       "      <td>1.0</td>\n",
       "      <td>0.0</td>\n",
       "      <td>0.0</td>\n",
       "      <td>0.0</td>\n",
       "      <td>...</td>\n",
       "      <td>0</td>\n",
       "      <td>0</td>\n",
       "      <td>0</td>\n",
       "      <td>0</td>\n",
       "      <td>0</td>\n",
       "      <td>0</td>\n",
       "      <td>0</td>\n",
       "      <td>0</td>\n",
       "      <td>0</td>\n",
       "      <td>0</td>\n",
       "    </tr>\n",
       "    <tr>\n",
       "      <th>16</th>\n",
       "      <td>17.0</td>\n",
       "      <td>1150.538462</td>\n",
       "      <td>NaN</td>\n",
       "      <td>39.0</td>\n",
       "      <td>NaN</td>\n",
       "      <td>NaN</td>\n",
       "      <td>NaN</td>\n",
       "      <td>NaN</td>\n",
       "      <td>NaN</td>\n",
       "      <td>NaN</td>\n",
       "      <td>...</td>\n",
       "      <td>0</td>\n",
       "      <td>0</td>\n",
       "      <td>0</td>\n",
       "      <td>0</td>\n",
       "      <td>0</td>\n",
       "      <td>0</td>\n",
       "      <td>0</td>\n",
       "      <td>0</td>\n",
       "      <td>0</td>\n",
       "      <td>0</td>\n",
       "    </tr>\n",
       "    <tr>\n",
       "      <th>17</th>\n",
       "      <td>9.0</td>\n",
       "      <td>2879.900000</td>\n",
       "      <td>NaN</td>\n",
       "      <td>10.0</td>\n",
       "      <td>NaN</td>\n",
       "      <td>NaN</td>\n",
       "      <td>NaN</td>\n",
       "      <td>NaN</td>\n",
       "      <td>NaN</td>\n",
       "      <td>NaN</td>\n",
       "      <td>...</td>\n",
       "      <td>0</td>\n",
       "      <td>0</td>\n",
       "      <td>0</td>\n",
       "      <td>0</td>\n",
       "      <td>0</td>\n",
       "      <td>0</td>\n",
       "      <td>0</td>\n",
       "      <td>0</td>\n",
       "      <td>0</td>\n",
       "      <td>0</td>\n",
       "    </tr>\n",
       "    <tr>\n",
       "      <th>18</th>\n",
       "      <td>15.0</td>\n",
       "      <td>1360.277778</td>\n",
       "      <td>NaN</td>\n",
       "      <td>54.0</td>\n",
       "      <td>NaN</td>\n",
       "      <td>NaN</td>\n",
       "      <td>NaN</td>\n",
       "      <td>NaN</td>\n",
       "      <td>NaN</td>\n",
       "      <td>NaN</td>\n",
       "      <td>...</td>\n",
       "      <td>0</td>\n",
       "      <td>0</td>\n",
       "      <td>0</td>\n",
       "      <td>0</td>\n",
       "      <td>0</td>\n",
       "      <td>0</td>\n",
       "      <td>0</td>\n",
       "      <td>0</td>\n",
       "      <td>0</td>\n",
       "      <td>0</td>\n",
       "    </tr>\n",
       "    <tr>\n",
       "      <th>19</th>\n",
       "      <td>7.0</td>\n",
       "      <td>2752.375000</td>\n",
       "      <td>371.000000</td>\n",
       "      <td>8.0</td>\n",
       "      <td>0.0</td>\n",
       "      <td>0.0</td>\n",
       "      <td>1.0</td>\n",
       "      <td>0.0</td>\n",
       "      <td>0.0</td>\n",
       "      <td>0.0</td>\n",
       "      <td>...</td>\n",
       "      <td>0</td>\n",
       "      <td>0</td>\n",
       "      <td>0</td>\n",
       "      <td>0</td>\n",
       "      <td>0</td>\n",
       "      <td>0</td>\n",
       "      <td>0</td>\n",
       "      <td>0</td>\n",
       "      <td>0</td>\n",
       "      <td>0</td>\n",
       "    </tr>\n",
       "    <tr>\n",
       "      <th>20</th>\n",
       "      <td>8.0</td>\n",
       "      <td>2379.000000</td>\n",
       "      <td>766.666667</td>\n",
       "      <td>21.0</td>\n",
       "      <td>0.0</td>\n",
       "      <td>0.0</td>\n",
       "      <td>2.0</td>\n",
       "      <td>1.0</td>\n",
       "      <td>0.0</td>\n",
       "      <td>0.0</td>\n",
       "      <td>...</td>\n",
       "      <td>0</td>\n",
       "      <td>0</td>\n",
       "      <td>0</td>\n",
       "      <td>0</td>\n",
       "      <td>0</td>\n",
       "      <td>0</td>\n",
       "      <td>0</td>\n",
       "      <td>0</td>\n",
       "      <td>0</td>\n",
       "      <td>0</td>\n",
       "    </tr>\n",
       "    <tr>\n",
       "      <th>21</th>\n",
       "      <td>6.0</td>\n",
       "      <td>1453.057143</td>\n",
       "      <td>281.000000</td>\n",
       "      <td>35.0</td>\n",
       "      <td>0.0</td>\n",
       "      <td>0.0</td>\n",
       "      <td>1.0</td>\n",
       "      <td>1.0</td>\n",
       "      <td>0.0</td>\n",
       "      <td>0.0</td>\n",
       "      <td>...</td>\n",
       "      <td>0</td>\n",
       "      <td>0</td>\n",
       "      <td>0</td>\n",
       "      <td>0</td>\n",
       "      <td>0</td>\n",
       "      <td>0</td>\n",
       "      <td>0</td>\n",
       "      <td>0</td>\n",
       "      <td>0</td>\n",
       "      <td>0</td>\n",
       "    </tr>\n",
       "    <tr>\n",
       "      <th>22</th>\n",
       "      <td>6.0</td>\n",
       "      <td>8105.800000</td>\n",
       "      <td>NaN</td>\n",
       "      <td>10.0</td>\n",
       "      <td>NaN</td>\n",
       "      <td>NaN</td>\n",
       "      <td>NaN</td>\n",
       "      <td>NaN</td>\n",
       "      <td>NaN</td>\n",
       "      <td>NaN</td>\n",
       "      <td>...</td>\n",
       "      <td>0</td>\n",
       "      <td>0</td>\n",
       "      <td>0</td>\n",
       "      <td>0</td>\n",
       "      <td>0</td>\n",
       "      <td>0</td>\n",
       "      <td>0</td>\n",
       "      <td>0</td>\n",
       "      <td>0</td>\n",
       "      <td>0</td>\n",
       "    </tr>\n",
       "    <tr>\n",
       "      <th>23</th>\n",
       "      <td>9.0</td>\n",
       "      <td>1846.090909</td>\n",
       "      <td>NaN</td>\n",
       "      <td>11.0</td>\n",
       "      <td>NaN</td>\n",
       "      <td>NaN</td>\n",
       "      <td>NaN</td>\n",
       "      <td>NaN</td>\n",
       "      <td>NaN</td>\n",
       "      <td>NaN</td>\n",
       "      <td>...</td>\n",
       "      <td>0</td>\n",
       "      <td>0</td>\n",
       "      <td>0</td>\n",
       "      <td>0</td>\n",
       "      <td>0</td>\n",
       "      <td>0</td>\n",
       "      <td>0</td>\n",
       "      <td>0</td>\n",
       "      <td>0</td>\n",
       "      <td>0</td>\n",
       "    </tr>\n",
       "    <tr>\n",
       "      <th>24</th>\n",
       "      <td>4.0</td>\n",
       "      <td>3775.714286</td>\n",
       "      <td>NaN</td>\n",
       "      <td>7.0</td>\n",
       "      <td>NaN</td>\n",
       "      <td>NaN</td>\n",
       "      <td>NaN</td>\n",
       "      <td>NaN</td>\n",
       "      <td>NaN</td>\n",
       "      <td>NaN</td>\n",
       "      <td>...</td>\n",
       "      <td>0</td>\n",
       "      <td>0</td>\n",
       "      <td>0</td>\n",
       "      <td>0</td>\n",
       "      <td>0</td>\n",
       "      <td>0</td>\n",
       "      <td>0</td>\n",
       "      <td>0</td>\n",
       "      <td>0</td>\n",
       "      <td>0</td>\n",
       "    </tr>\n",
       "    <tr>\n",
       "      <th>25</th>\n",
       "      <td>14.0</td>\n",
       "      <td>926.891892</td>\n",
       "      <td>NaN</td>\n",
       "      <td>37.0</td>\n",
       "      <td>NaN</td>\n",
       "      <td>NaN</td>\n",
       "      <td>NaN</td>\n",
       "      <td>NaN</td>\n",
       "      <td>NaN</td>\n",
       "      <td>NaN</td>\n",
       "      <td>...</td>\n",
       "      <td>0</td>\n",
       "      <td>0</td>\n",
       "      <td>0</td>\n",
       "      <td>0</td>\n",
       "      <td>0</td>\n",
       "      <td>0</td>\n",
       "      <td>0</td>\n",
       "      <td>0</td>\n",
       "      <td>0</td>\n",
       "      <td>0</td>\n",
       "    </tr>\n",
       "    <tr>\n",
       "      <th>26</th>\n",
       "      <td>10.0</td>\n",
       "      <td>3792.600000</td>\n",
       "      <td>NaN</td>\n",
       "      <td>15.0</td>\n",
       "      <td>NaN</td>\n",
       "      <td>NaN</td>\n",
       "      <td>NaN</td>\n",
       "      <td>NaN</td>\n",
       "      <td>NaN</td>\n",
       "      <td>NaN</td>\n",
       "      <td>...</td>\n",
       "      <td>0</td>\n",
       "      <td>0</td>\n",
       "      <td>0</td>\n",
       "      <td>0</td>\n",
       "      <td>0</td>\n",
       "      <td>0</td>\n",
       "      <td>0</td>\n",
       "      <td>0</td>\n",
       "      <td>0</td>\n",
       "      <td>0</td>\n",
       "    </tr>\n",
       "    <tr>\n",
       "      <th>27</th>\n",
       "      <td>5.0</td>\n",
       "      <td>4801.200000</td>\n",
       "      <td>NaN</td>\n",
       "      <td>5.0</td>\n",
       "      <td>NaN</td>\n",
       "      <td>NaN</td>\n",
       "      <td>NaN</td>\n",
       "      <td>NaN</td>\n",
       "      <td>NaN</td>\n",
       "      <td>NaN</td>\n",
       "      <td>...</td>\n",
       "      <td>0</td>\n",
       "      <td>0</td>\n",
       "      <td>0</td>\n",
       "      <td>0</td>\n",
       "      <td>0</td>\n",
       "      <td>0</td>\n",
       "      <td>0</td>\n",
       "      <td>0</td>\n",
       "      <td>0</td>\n",
       "      <td>0</td>\n",
       "    </tr>\n",
       "    <tr>\n",
       "      <th>28</th>\n",
       "      <td>9.0</td>\n",
       "      <td>5411.666667</td>\n",
       "      <td>681.000000</td>\n",
       "      <td>9.0</td>\n",
       "      <td>0.0</td>\n",
       "      <td>0.0</td>\n",
       "      <td>1.0</td>\n",
       "      <td>0.0</td>\n",
       "      <td>0.0</td>\n",
       "      <td>0.0</td>\n",
       "      <td>...</td>\n",
       "      <td>0</td>\n",
       "      <td>0</td>\n",
       "      <td>0</td>\n",
       "      <td>0</td>\n",
       "      <td>0</td>\n",
       "      <td>0</td>\n",
       "      <td>0</td>\n",
       "      <td>0</td>\n",
       "      <td>0</td>\n",
       "      <td>0</td>\n",
       "    </tr>\n",
       "    <tr>\n",
       "      <th>29</th>\n",
       "      <td>5.0</td>\n",
       "      <td>4145.222222</td>\n",
       "      <td>NaN</td>\n",
       "      <td>9.0</td>\n",
       "      <td>NaN</td>\n",
       "      <td>NaN</td>\n",
       "      <td>NaN</td>\n",
       "      <td>NaN</td>\n",
       "      <td>NaN</td>\n",
       "      <td>NaN</td>\n",
       "      <td>...</td>\n",
       "      <td>0</td>\n",
       "      <td>0</td>\n",
       "      <td>0</td>\n",
       "      <td>0</td>\n",
       "      <td>0</td>\n",
       "      <td>0</td>\n",
       "      <td>0</td>\n",
       "      <td>0</td>\n",
       "      <td>0</td>\n",
       "      <td>0</td>\n",
       "    </tr>\n",
       "  </tbody>\n",
       "</table>\n",
       "<p>30 rows × 3757 columns</p>\n",
       "</div>"
      ],
      "text/plain": [
       "    num_ports   durat_mean  meeting_duration_min  num_countries  type_0  \\\n",
       "0         7.0  7532.875000                   NaN            8.0     NaN   \n",
       "1         3.0  4490.444444             93.500000            9.0     0.0   \n",
       "2        11.0  5388.750000                   NaN           12.0     NaN   \n",
       "3        14.0   469.272727                   NaN           44.0     NaN   \n",
       "4         6.0  9145.833333            280.250000            6.0     0.0   \n",
       "5        26.0  1705.400000                   NaN           40.0     NaN   \n",
       "6        17.0   890.591837                   NaN           49.0     NaN   \n",
       "7         8.0  1723.100000                   NaN           10.0     NaN   \n",
       "8         9.0  2115.416667                   NaN           12.0     NaN   \n",
       "9        13.0  3365.405405                   NaN           37.0     NaN   \n",
       "10       14.0  2619.920000                   NaN           25.0     NaN   \n",
       "11        8.0  4533.636364                   NaN           11.0     NaN   \n",
       "12       10.0  1159.809524                   NaN           42.0     NaN   \n",
       "13       12.0  1397.416667             38.000000           36.0     1.0   \n",
       "14        6.0  2065.444444            613.000000            9.0     0.0   \n",
       "15        5.0  6699.322581             79.000000           31.0     0.0   \n",
       "16       17.0  1150.538462                   NaN           39.0     NaN   \n",
       "17        9.0  2879.900000                   NaN           10.0     NaN   \n",
       "18       15.0  1360.277778                   NaN           54.0     NaN   \n",
       "19        7.0  2752.375000            371.000000            8.0     0.0   \n",
       "20        8.0  2379.000000            766.666667           21.0     0.0   \n",
       "21        6.0  1453.057143            281.000000           35.0     0.0   \n",
       "22        6.0  8105.800000                   NaN           10.0     NaN   \n",
       "23        9.0  1846.090909                   NaN           11.0     NaN   \n",
       "24        4.0  3775.714286                   NaN            7.0     NaN   \n",
       "25       14.0   926.891892                   NaN           37.0     NaN   \n",
       "26       10.0  3792.600000                   NaN           15.0     NaN   \n",
       "27        5.0  4801.200000                   NaN            5.0     NaN   \n",
       "28        9.0  5411.666667            681.000000            9.0     0.0   \n",
       "29        5.0  4145.222222                   NaN            9.0     NaN   \n",
       "\n",
       "    type_1  type_2  type_3  type_4  type_5            ...             \\\n",
       "0      NaN     NaN     NaN     NaN     NaN            ...              \n",
       "1      0.0     2.0     0.0     0.0     0.0            ...              \n",
       "2      NaN     NaN     NaN     NaN     NaN            ...              \n",
       "3      NaN     NaN     NaN     NaN     NaN            ...              \n",
       "4      0.0     2.0     2.0     0.0     0.0            ...              \n",
       "5      NaN     NaN     NaN     NaN     NaN            ...              \n",
       "6      NaN     NaN     NaN     NaN     NaN            ...              \n",
       "7      NaN     NaN     NaN     NaN     NaN            ...              \n",
       "8      NaN     NaN     NaN     NaN     NaN            ...              \n",
       "9      NaN     NaN     NaN     NaN     NaN            ...              \n",
       "10     NaN     NaN     NaN     NaN     NaN            ...              \n",
       "11     NaN     NaN     NaN     NaN     NaN            ...              \n",
       "12     NaN     NaN     NaN     NaN     NaN            ...              \n",
       "13     0.0     0.0     0.0     0.0     0.0            ...              \n",
       "14     0.0     2.0     1.0     0.0     0.0            ...              \n",
       "15     0.0     1.0     0.0     0.0     0.0            ...              \n",
       "16     NaN     NaN     NaN     NaN     NaN            ...              \n",
       "17     NaN     NaN     NaN     NaN     NaN            ...              \n",
       "18     NaN     NaN     NaN     NaN     NaN            ...              \n",
       "19     0.0     1.0     0.0     0.0     0.0            ...              \n",
       "20     0.0     2.0     1.0     0.0     0.0            ...              \n",
       "21     0.0     1.0     1.0     0.0     0.0            ...              \n",
       "22     NaN     NaN     NaN     NaN     NaN            ...              \n",
       "23     NaN     NaN     NaN     NaN     NaN            ...              \n",
       "24     NaN     NaN     NaN     NaN     NaN            ...              \n",
       "25     NaN     NaN     NaN     NaN     NaN            ...              \n",
       "26     NaN     NaN     NaN     NaN     NaN            ...              \n",
       "27     NaN     NaN     NaN     NaN     NaN            ...              \n",
       "28     0.0     1.0     0.0     0.0     0.0            ...              \n",
       "29     NaN     NaN     NaN     NaN     NaN            ...              \n",
       "\n",
       "    57d5268a376b25d85e8577d9  57d5300d8f3ea8dd5e7e5995  \\\n",
       "0                          0                         0   \n",
       "1                          0                         0   \n",
       "2                          0                         0   \n",
       "3                          0                         0   \n",
       "4                          0                         0   \n",
       "5                          0                         0   \n",
       "6                          0                         0   \n",
       "7                          0                         0   \n",
       "8                          0                         0   \n",
       "9                          0                         0   \n",
       "10                         0                         0   \n",
       "11                         0                         0   \n",
       "12                         0                         0   \n",
       "13                         0                         0   \n",
       "14                         0                         0   \n",
       "15                         0                         0   \n",
       "16                         0                         0   \n",
       "17                         0                         0   \n",
       "18                         0                         0   \n",
       "19                         0                         0   \n",
       "20                         0                         0   \n",
       "21                         0                         0   \n",
       "22                         0                         0   \n",
       "23                         0                         0   \n",
       "24                         0                         0   \n",
       "25                         0                         0   \n",
       "26                         0                         0   \n",
       "27                         0                         0   \n",
       "28                         0                         0   \n",
       "29                         0                         0   \n",
       "\n",
       "    57d530a5376b25d85e8577e3  57d531d4be57e5de5e75ff1e  \\\n",
       "0                          0                         0   \n",
       "1                          0                         0   \n",
       "2                          0                         0   \n",
       "3                          0                         0   \n",
       "4                          0                         0   \n",
       "5                          0                         0   \n",
       "6                          0                         0   \n",
       "7                          0                         0   \n",
       "8                          0                         0   \n",
       "9                          0                         0   \n",
       "10                         0                         0   \n",
       "11                         0                         0   \n",
       "12                         0                         0   \n",
       "13                         0                         0   \n",
       "14                         0                         0   \n",
       "15                         0                         0   \n",
       "16                         0                         0   \n",
       "17                         0                         0   \n",
       "18                         0                         0   \n",
       "19                         0                         0   \n",
       "20                         0                         0   \n",
       "21                         0                         0   \n",
       "22                         0                         0   \n",
       "23                         0                         0   \n",
       "24                         0                         0   \n",
       "25                         0                         0   \n",
       "26                         0                         0   \n",
       "27                         0                         0   \n",
       "28                         0                         0   \n",
       "29                         0                         0   \n",
       "\n",
       "    57d536d2376b25d85e8577e9  57d53f2f2e4e5fe35e7b30e5  \\\n",
       "0                          0                         0   \n",
       "1                          0                         0   \n",
       "2                          0                         0   \n",
       "3                          0                         0   \n",
       "4                          0                         0   \n",
       "5                          0                         0   \n",
       "6                          0                         0   \n",
       "7                          0                         0   \n",
       "8                          0                         0   \n",
       "9                          0                         0   \n",
       "10                         0                         0   \n",
       "11                         0                         0   \n",
       "12                         0                         0   \n",
       "13                         0                         0   \n",
       "14                         0                         0   \n",
       "15                         0                         0   \n",
       "16                         0                         0   \n",
       "17                         0                         0   \n",
       "18                         0                         0   \n",
       "19                         0                         0   \n",
       "20                         0                         0   \n",
       "21                         0                         0   \n",
       "22                         0                         0   \n",
       "23                         0                         0   \n",
       "24                         0                         0   \n",
       "25                         0                         0   \n",
       "26                         0                         0   \n",
       "27                         0                         0   \n",
       "28                         0                         0   \n",
       "29                         0                         0   \n",
       "\n",
       "    57d5408b2e4e5fe35e7b30e9  57d543d0be57e5de5e75ff33  \\\n",
       "0                          0                         0   \n",
       "1                          0                         0   \n",
       "2                          0                         0   \n",
       "3                          0                         0   \n",
       "4                          0                         0   \n",
       "5                          0                         0   \n",
       "6                          0                         0   \n",
       "7                          0                         0   \n",
       "8                          0                         0   \n",
       "9                          0                         0   \n",
       "10                         0                         0   \n",
       "11                         0                         0   \n",
       "12                         0                         0   \n",
       "13                         0                         0   \n",
       "14                         0                         0   \n",
       "15                         0                         0   \n",
       "16                         0                         0   \n",
       "17                         0                         0   \n",
       "18                         0                         0   \n",
       "19                         0                         0   \n",
       "20                         0                         0   \n",
       "21                         0                         0   \n",
       "22                         0                         0   \n",
       "23                         0                         0   \n",
       "24                         0                         0   \n",
       "25                         0                         0   \n",
       "26                         0                         0   \n",
       "27                         0                         0   \n",
       "28                         0                         0   \n",
       "29                         0                         0   \n",
       "\n",
       "    57d547ab8f3ea8dd5e7e59a6  57d552ff376b25d85e8577ff  \n",
       "0                          0                         0  \n",
       "1                          0                         0  \n",
       "2                          0                         0  \n",
       "3                          0                         0  \n",
       "4                          0                         0  \n",
       "5                          0                         0  \n",
       "6                          0                         0  \n",
       "7                          0                         0  \n",
       "8                          0                         0  \n",
       "9                          0                         0  \n",
       "10                         0                         0  \n",
       "11                         0                         0  \n",
       "12                         0                         0  \n",
       "13                         0                         0  \n",
       "14                         0                         0  \n",
       "15                         0                         0  \n",
       "16                         0                         0  \n",
       "17                         0                         0  \n",
       "18                         0                         0  \n",
       "19                         0                         0  \n",
       "20                         0                         0  \n",
       "21                         0                         0  \n",
       "22                         0                         0  \n",
       "23                         0                         0  \n",
       "24                         0                         0  \n",
       "25                         0                         0  \n",
       "26                         0                         0  \n",
       "27                         0                         0  \n",
       "28                         0                         0  \n",
       "29                         0                         0  \n",
       "\n",
       "[30 rows x 3757 columns]"
      ]
     },
     "execution_count": 42,
     "metadata": {},
     "output_type": "execute_result"
    }
   ],
   "source": [
    "vessels.head(30)"
   ]
  },
  {
   "cell_type": "code",
   "execution_count": 33,
   "metadata": {
    "collapsed": false
   },
   "outputs": [
    {
     "name": "stdout",
     "output_type": "stream",
     "text": [
      "(21122, 3757)\n",
      "(21122,)\n"
     ]
    }
   ],
   "source": [
    "print(vessels.shape)\n",
    "print(answer.shape)"
   ]
  },
  {
   "cell_type": "code",
   "execution_count": null,
   "metadata": {
    "collapsed": true
   },
   "outputs": [],
   "source": []
  },
  {
   "cell_type": "code",
   "execution_count": 34,
   "metadata": {
    "collapsed": true
   },
   "outputs": [],
   "source": [
    "imputer = Imputer()\n",
    "scaler = StandardScaler()"
   ]
  },
  {
   "cell_type": "code",
   "execution_count": 35,
   "metadata": {
    "collapsed": false
   },
   "outputs": [],
   "source": [
    "vessels1 = imputer.fit_transform(vessels)\n",
    "# vessels1 = scaler.fit_transform(vessels1)"
   ]
  },
  {
   "cell_type": "code",
   "execution_count": 36,
   "metadata": {
    "collapsed": false
   },
   "outputs": [],
   "source": [
    "num = vessels1.shape[0]"
   ]
  },
  {
   "cell_type": "code",
   "execution_count": 37,
   "metadata": {
    "collapsed": true
   },
   "outputs": [],
   "source": [
    "folding = KFold(num, n_folds=5, shuffle=True, random_state=42)"
   ]
  },
  {
   "cell_type": "code",
   "execution_count": 38,
   "metadata": {
    "collapsed": true
   },
   "outputs": [],
   "source": [
    "clf = RandomForestClassifier(n_estimators=100, bootstrap=True, random_state=42)"
   ]
  },
  {
   "cell_type": "code",
   "execution_count": 39,
   "metadata": {
    "collapsed": false
   },
   "outputs": [
    {
     "name": "stdout",
     "output_type": "stream",
     "text": [
      "[ 0.85940828  0.86627219  0.87144886  0.87144886  0.85961174]\n",
      "0.865637988614\n"
     ]
    }
   ],
   "source": [
    "score = cross_val_score(clf, vessels1, answer, cv=folding, scoring='accuracy')\n",
    "print(score)\n",
    "print(np.mean(score))"
   ]
  },
  {
   "cell_type": "code",
   "execution_count": 40,
   "metadata": {
    "collapsed": false
   },
   "outputs": [],
   "source": [
    "clf = RandomForestClassifier(n_estimators=200, bootstrap=True, random_state=42)"
   ]
  },
  {
   "cell_type": "code",
   "execution_count": 41,
   "metadata": {
    "collapsed": false
   },
   "outputs": [
    {
     "name": "stdout",
     "output_type": "stream",
     "text": [
      "[ 0.86130178  0.86863905  0.87097538  0.87097538  0.86079545]\n",
      "0.866537408105\n"
     ]
    }
   ],
   "source": [
    "score = cross_val_score(clf, vessels1, answer, cv=folding, scoring='accuracy')\n",
    "print(score)\n",
    "print(np.mean(score))"
   ]
  },
  {
   "cell_type": "code",
   "execution_count": 43,
   "metadata": {
    "collapsed": true
   },
   "outputs": [],
   "source": [
    "X_train, X_test, y_train, y_test = sklearn.cross_validation.train_test_split(vessels1,\n",
    "                                                                            answer, \n",
    "                                                                            random_state=42,\n",
    "                                                                            test_size=0.3)"
   ]
  },
  {
   "cell_type": "code",
   "execution_count": 45,
   "metadata": {
    "collapsed": false
   },
   "outputs": [
    {
     "data": {
      "text/plain": [
       "RandomForestClassifier(bootstrap=True, class_weight=None, criterion='gini',\n",
       "            max_depth=None, max_features='auto', max_leaf_nodes=None,\n",
       "            min_samples_leaf=1, min_samples_split=2,\n",
       "            min_weight_fraction_leaf=0.0, n_estimators=100, n_jobs=1,\n",
       "            oob_score=False, random_state=42, verbose=0, warm_start=False)"
      ]
     },
     "execution_count": 45,
     "metadata": {},
     "output_type": "execute_result"
    }
   ],
   "source": [
    "clf = RandomForestClassifier(n_estimators=100, bootstrap=True, random_state=42)\n",
    "clf.fit(X_train, y_train)"
   ]
  },
  {
   "cell_type": "code",
   "execution_count": 46,
   "metadata": {
    "collapsed": true
   },
   "outputs": [],
   "source": [
    "y_train_predict = clf.predict(X_train)\n",
    "y_test_predict = clf.predict(X_test)"
   ]
  },
  {
   "cell_type": "code",
   "execution_count": 48,
   "metadata": {
    "collapsed": false
   },
   "outputs": [
    {
     "name": "stdout",
     "output_type": "stream",
     "text": [
      "prediction on train 0.999594183294\n"
     ]
    }
   ],
   "source": [
    "print('prediction on train', accuracy_score(y_train_predict, y_train))"
   ]
  },
  {
   "cell_type": "code",
   "execution_count": 49,
   "metadata": {
    "collapsed": false
   },
   "outputs": [
    {
     "name": "stdout",
     "output_type": "stream",
     "text": [
      "prediction on test 0.858923780969\n"
     ]
    }
   ],
   "source": [
    "print('prediction on test', accuracy_score(y_test_predict, y_test))"
   ]
  },
  {
   "cell_type": "code",
   "execution_count": 65,
   "metadata": {
    "collapsed": true
   },
   "outputs": [],
   "source": [
    "y_test_predict_names = list(map(lambda x: values2dict[x], y_test_predict))\n",
    "y_test_names = list(map(lambda x: values2dict[x], y_test))"
   ]
  },
  {
   "cell_type": "code",
   "execution_count": 53,
   "metadata": {
    "collapsed": false
   },
   "outputs": [
    {
     "name": "stdout",
     "output_type": "stream",
     "text": [
      "classification report on test\n",
      "              precision    recall  f1-score   support\n",
      "\n",
      "        0.0       0.93      0.93      0.93      1232\n",
      "        1.0       0.89      0.95      0.92      2190\n",
      "        2.0       0.89      0.72      0.80       836\n",
      "        3.0       0.71      0.87      0.78       950\n",
      "        4.0       0.95      0.53      0.68       180\n",
      "        5.0       0.84      0.84      0.84       628\n",
      "        6.0       0.91      0.51      0.65       321\n",
      "\n",
      "avg / total       0.87      0.86      0.86      6337\n",
      "\n"
     ]
    }
   ],
   "source": [
    "print('classification report on test\\n', classification_report(y_test, y_test_predict))"
   ]
  },
  {
   "cell_type": "code",
   "execution_count": 66,
   "metadata": {
    "collapsed": false
   },
   "outputs": [
    {
     "name": "stdout",
     "output_type": "stream",
     "text": [
      "classification report on test\n",
      "              precision    recall  f1-score   support\n",
      "\n",
      "Bulk Carrier       0.89      0.95      0.92      2190\n",
      "Container Vessel       0.93      0.93      0.93      1232\n",
      "Fishing Vessel       0.84      0.84      0.84       628\n",
      " Oil Tanker       0.89      0.72      0.80       836\n",
      "Passenger Vessel       0.91      0.51      0.65       321\n",
      "     Reefer       0.95      0.53      0.68       180\n",
      "        Tug       0.71      0.87      0.78       950\n",
      "\n",
      "avg / total       0.87      0.86      0.86      6337\n",
      "\n"
     ]
    }
   ],
   "source": [
    "print('classification report on test\\n', classification_report(y_test_names, y_test_predict_names))"
   ]
  },
  {
   "cell_type": "code",
   "execution_count": 71,
   "metadata": {
    "collapsed": false
   },
   "outputs": [
    {
     "data": {
      "text/plain": [
       "Index(['num_ports', 'durat_mean', 'meeting_duration_min', 'num_countries',\n",
       "       'type_0', 'type_1', 'type_2', 'type_3', 'type_4', 'type_5', 'type_6',\n",
       "       'japan', 'indonesia', 'australia', 'brazil', 'southkorea', 'china',\n",
       "       'turkey', 'netherlands', 'unitedstates', 'india', 'russia', 'singapore',\n",
       "       '5358fc78b68ca120a07db85b', '5358fc78b68ca120a07dbc71',\n",
       "       '5358fc78b68ca120a07dbce5', '5358fc78b68ca120a07dbcfb',\n",
       "       '5358fc78b68ca120a07dbcfc', '53748c958925ee691cb9b4cd'],\n",
       "      dtype='object')"
      ]
     },
     "execution_count": 71,
     "metadata": {},
     "output_type": "execute_result"
    }
   ],
   "source": [
    "vessels.columns[clf.feature_importances_> 0.005]"
   ]
  },
  {
   "cell_type": "code",
   "execution_count": 75,
   "metadata": {
    "collapsed": false
   },
   "outputs": [
    {
     "data": {
      "text/plain": [
       "array(['Taicang'], dtype=object)"
      ]
     },
     "execution_count": 75,
     "metadata": {},
     "output_type": "execute_result"
    }
   ],
   "source": [
    "ports_full[ports_full.port_id == '5358fc78b68ca120a07db85b']['port_name'].unique()"
   ]
  },
  {
   "cell_type": "code",
   "execution_count": 76,
   "metadata": {
    "collapsed": false
   },
   "outputs": [
    {
     "data": {
      "text/plain": [
       "array(['Busan'], dtype=object)"
      ]
     },
     "execution_count": 76,
     "metadata": {},
     "output_type": "execute_result"
    }
   ],
   "source": [
    "ports_full[ports_full.port_id == '5358fc78b68ca120a07dbc71']['port_name'].unique()"
   ]
  },
  {
   "cell_type": "code",
   "execution_count": 77,
   "metadata": {
    "collapsed": false
   },
   "outputs": [
    {
     "data": {
      "text/plain": [
       "array(['Hong Kong'], dtype=object)"
      ]
     },
     "execution_count": 77,
     "metadata": {},
     "output_type": "execute_result"
    }
   ],
   "source": [
    "ports_full[ports_full.port_id == '5358fc78b68ca120a07dbce5']['port_name'].unique()"
   ]
  },
  {
   "cell_type": "code",
   "execution_count": 78,
   "metadata": {
    "collapsed": false
   },
   "outputs": [
    {
     "data": {
      "text/plain": [
       "array(['Shanghai'], dtype=object)"
      ]
     },
     "execution_count": 78,
     "metadata": {},
     "output_type": "execute_result"
    }
   ],
   "source": [
    "ports_full[ports_full.port_id == '5358fc78b68ca120a07dbcfb']['port_name'].unique()"
   ]
  },
  {
   "cell_type": "code",
   "execution_count": 79,
   "metadata": {
    "collapsed": false
   },
   "outputs": [
    {
     "data": {
      "text/plain": [
       "array(['Singapore'], dtype=object)"
      ]
     },
     "execution_count": 79,
     "metadata": {},
     "output_type": "execute_result"
    }
   ],
   "source": [
    "ports_full[ports_full.port_id == '5358fc78b68ca120a07dbcfc']['port_name'].unique()"
   ]
  },
  {
   "cell_type": "code",
   "execution_count": null,
   "metadata": {
    "collapsed": true
   },
   "outputs": [],
   "source": []
  }
 ],
 "metadata": {
  "kernelspec": {
   "display_name": "Python 3",
   "language": "python",
   "name": "python3"
  },
  "language_info": {
   "codemirror_mode": {
    "name": "ipython",
    "version": 3
   },
   "file_extension": ".py",
   "mimetype": "text/x-python",
   "name": "python",
   "nbconvert_exporter": "python",
   "pygments_lexer": "ipython3",
   "version": "3.5.2"
  }
 },
 "nbformat": 4,
 "nbformat_minor": 1
}
